{
 "cells": [
  {
   "cell_type": "code",
   "execution_count": 1,
   "id": "8a7e2603",
   "metadata": {},
   "outputs": [],
   "source": [
    "%matplotlib inline\n",
    "import matplotlib.pyplot as plt\n",
    "import numpy as np\n",
    "import pandas as pd"
   ]
  },
  {
   "cell_type": "code",
   "execution_count": 2,
   "id": "e6dc6cb4",
   "metadata": {},
   "outputs": [
    {
     "data": {
      "text/html": [
       "<div>\n",
       "<style scoped>\n",
       "    .dataframe tbody tr th:only-of-type {\n",
       "        vertical-align: middle;\n",
       "    }\n",
       "\n",
       "    .dataframe tbody tr th {\n",
       "        vertical-align: top;\n",
       "    }\n",
       "\n",
       "    .dataframe thead th {\n",
       "        text-align: right;\n",
       "    }\n",
       "</style>\n",
       "<table border=\"1\" class=\"dataframe\">\n",
       "  <thead>\n",
       "    <tr style=\"text-align: right;\">\n",
       "      <th></th>\n",
       "      <th>Week</th>\n",
       "      <th>FantasyPointsPPR</th>\n",
       "      <th>OpponentPositionRank</th>\n",
       "    </tr>\n",
       "  </thead>\n",
       "  <tbody>\n",
       "    <tr>\n",
       "      <th>0</th>\n",
       "      <td>1</td>\n",
       "      <td>23.6</td>\n",
       "      <td>26</td>\n",
       "    </tr>\n",
       "    <tr>\n",
       "      <th>1</th>\n",
       "      <td>1</td>\n",
       "      <td>16.9</td>\n",
       "      <td>31</td>\n",
       "    </tr>\n",
       "    <tr>\n",
       "      <th>2</th>\n",
       "      <td>1</td>\n",
       "      <td>19.4</td>\n",
       "      <td>20</td>\n",
       "    </tr>\n",
       "    <tr>\n",
       "      <th>3</th>\n",
       "      <td>1</td>\n",
       "      <td>16.4</td>\n",
       "      <td>21</td>\n",
       "    </tr>\n",
       "    <tr>\n",
       "      <th>4</th>\n",
       "      <td>1</td>\n",
       "      <td>17.7</td>\n",
       "      <td>27</td>\n",
       "    </tr>\n",
       "    <tr>\n",
       "      <th>...</th>\n",
       "      <td>...</td>\n",
       "      <td>...</td>\n",
       "      <td>...</td>\n",
       "    </tr>\n",
       "    <tr>\n",
       "      <th>394</th>\n",
       "      <td>17</td>\n",
       "      <td>0.5</td>\n",
       "      <td>5</td>\n",
       "    </tr>\n",
       "    <tr>\n",
       "      <th>395</th>\n",
       "      <td>17</td>\n",
       "      <td>0.7</td>\n",
       "      <td>14</td>\n",
       "    </tr>\n",
       "    <tr>\n",
       "      <th>396</th>\n",
       "      <td>17</td>\n",
       "      <td>0.4</td>\n",
       "      <td>1</td>\n",
       "    </tr>\n",
       "    <tr>\n",
       "      <th>397</th>\n",
       "      <td>17</td>\n",
       "      <td>0.7</td>\n",
       "      <td>2</td>\n",
       "    </tr>\n",
       "    <tr>\n",
       "      <th>398</th>\n",
       "      <td>17</td>\n",
       "      <td>0.4</td>\n",
       "      <td>12</td>\n",
       "    </tr>\n",
       "  </tbody>\n",
       "</table>\n",
       "<p>399 rows × 3 columns</p>\n",
       "</div>"
      ],
      "text/plain": [
       "     Week  FantasyPointsPPR  OpponentPositionRank\n",
       "0       1              23.6                    26\n",
       "1       1              16.9                    31\n",
       "2       1              19.4                    20\n",
       "3       1              16.4                    21\n",
       "4       1              17.7                    27\n",
       "..    ...               ...                   ...\n",
       "394    17               0.5                     5\n",
       "395    17               0.7                    14\n",
       "396    17               0.4                     1\n",
       "397    17               0.7                     2\n",
       "398    17               0.4                    12\n",
       "\n",
       "[399 rows x 3 columns]"
      ]
     },
     "execution_count": 2,
     "metadata": {},
     "output_type": "execute_result"
    }
   ],
   "source": [
    "TE = pd.read_csv('TE_PTS_SOS.csv')\n",
    "# TE.head()\n",
    "TE\n"
   ]
  },
  {
   "cell_type": "code",
   "execution_count": 3,
   "id": "d924e2cc",
   "metadata": {},
   "outputs": [],
   "source": [
    "# TE_Wk1 = TE.loc['Week'] == 1"
   ]
  },
  {
   "cell_type": "code",
   "execution_count": 3,
   "id": "4b476d6c",
   "metadata": {},
   "outputs": [
    {
     "name": "stdout",
     "output_type": "stream",
     "text": [
      "Shape:  (399, 1) (399, 1)\n"
     ]
    },
    {
     "data": {
      "text/plain": [
       "array([[23.6],\n",
       "       [16.9],\n",
       "       [19.4],\n",
       "       [16.4],\n",
       "       [17.7],\n",
       "       [17.5],\n",
       "       [10.1],\n",
       "       [11.2],\n",
       "       [15. ],\n",
       "       [12.1],\n",
       "       [12.2],\n",
       "       [ 9.7],\n",
       "       [ 8.3],\n",
       "       [ 7.9],\n",
       "       [11. ],\n",
       "       [ 7.5],\n",
       "       [ 7.1],\n",
       "       [ 4.7],\n",
       "       [ 4.5],\n",
       "       [ 6.3],\n",
       "       [ 5.9],\n",
       "       [ 3.6],\n",
       "       [ 3. ],\n",
       "       [ 2.4],\n",
       "       [24.7],\n",
       "       [27.3],\n",
       "       [28.8],\n",
       "       [24.3],\n",
       "       [17.9],\n",
       "       [18.4],\n",
       "       [16.3],\n",
       "       [14.4],\n",
       "       [12.8],\n",
       "       [10.6],\n",
       "       [10.4],\n",
       "       [14.5],\n",
       "       [ 9.5],\n",
       "       [12.6],\n",
       "       [10.3],\n",
       "       [12.6],\n",
       "       [ 7.5],\n",
       "       [ 8.2],\n",
       "       [ 4.7],\n",
       "       [ 6.8],\n",
       "       [ 4.3],\n",
       "       [ 2.9],\n",
       "       [ 2.7],\n",
       "       [ 2.2],\n",
       "       [ 1.9],\n",
       "       [ 1.5],\n",
       "       [ 1.5],\n",
       "       [ 1.4],\n",
       "       [ 1.3],\n",
       "       [ 1.3],\n",
       "       [ 1.3],\n",
       "       [ 1.2],\n",
       "       [27. ],\n",
       "       [18.3],\n",
       "       [11.8],\n",
       "       [15.8],\n",
       "       [ 9.5],\n",
       "       [ 9.3],\n",
       "       [12.5],\n",
       "       [10.5],\n",
       "       [11.3],\n",
       "       [10. ],\n",
       "       [10. ],\n",
       "       [11.2],\n",
       "       [12.2],\n",
       "       [10.8],\n",
       "       [ 8.3],\n",
       "       [ 7.5],\n",
       "       [ 7. ],\n",
       "       [ 5.6],\n",
       "       [ 6.5],\n",
       "       [ 5.7],\n",
       "       [ 2.9],\n",
       "       [ 2.7],\n",
       "       [ 3.7],\n",
       "       [ 2.4],\n",
       "       [ 2. ],\n",
       "       [ 3.2],\n",
       "       [11.3],\n",
       "       [13.4],\n",
       "       [ 2.3],\n",
       "       [ 1.9],\n",
       "       [ 1.6],\n",
       "       [ 1.2],\n",
       "       [ 1.1],\n",
       "       [ 0.9],\n",
       "       [ 1.1],\n",
       "       [ 1.8],\n",
       "       [ 1. ],\n",
       "       [ 0.9],\n",
       "       [ 0.7],\n",
       "       [ 1. ],\n",
       "       [ 1. ],\n",
       "       [ 0.5],\n",
       "       [ 0.4],\n",
       "       [ 0.5],\n",
       "       [ 0.4],\n",
       "       [ 0.4],\n",
       "       [ 0.5],\n",
       "       [ 0.5],\n",
       "       [ 0.4],\n",
       "       [ 0.2],\n",
       "       [ 0.2],\n",
       "       [ 0.2],\n",
       "       [ 0.2],\n",
       "       [ 0.2],\n",
       "       [15.3],\n",
       "       [ 7. ],\n",
       "       [10.3],\n",
       "       [ 6.9],\n",
       "       [ 4.7],\n",
       "       [ 5.5],\n",
       "       [ 3.9],\n",
       "       [ 5.7],\n",
       "       [ 4.3],\n",
       "       [ 4.5],\n",
       "       [ 3. ],\n",
       "       [ 4.4],\n",
       "       [ 2.2],\n",
       "       [ 1.6],\n",
       "       [ 1.5],\n",
       "       [ 2.4],\n",
       "       [ 1.7],\n",
       "       [ 1.5],\n",
       "       [ 1.4],\n",
       "       [ 0.8],\n",
       "       [ 0.8],\n",
       "       [ 0.7],\n",
       "       [ 0.7],\n",
       "       [ 0.7],\n",
       "       [ 0.6],\n",
       "       [23.3],\n",
       "       [21.4],\n",
       "       [17.9],\n",
       "       [16.1],\n",
       "       [15. ],\n",
       "       [14. ],\n",
       "       [11. ],\n",
       "       [11.3],\n",
       "       [11.6],\n",
       "       [ 9.7],\n",
       "       [10.9],\n",
       "       [ 9.5],\n",
       "       [ 6.2],\n",
       "       [ 7.1],\n",
       "       [ 3. ],\n",
       "       [ 3.8],\n",
       "       [ 2.2],\n",
       "       [ 2.2],\n",
       "       [22.1],\n",
       "       [17.6],\n",
       "       [16.4],\n",
       "       [17.3],\n",
       "       [17.4],\n",
       "       [12.5],\n",
       "       [10.1],\n",
       "       [14.8],\n",
       "       [10.2],\n",
       "       [13.1],\n",
       "       [10.6],\n",
       "       [10.8],\n",
       "       [10.4],\n",
       "       [11.3],\n",
       "       [11.2],\n",
       "       [ 7.1],\n",
       "       [ 6.1],\n",
       "       [ 5.5],\n",
       "       [ 6.5],\n",
       "       [ 6.4],\n",
       "       [ 4.7],\n",
       "       [ 5.6],\n",
       "       [ 4.4],\n",
       "       [ 4. ],\n",
       "       [ 2. ],\n",
       "       [ 2. ],\n",
       "       [ 1.7],\n",
       "       [27. ],\n",
       "       [18.3],\n",
       "       [15.6],\n",
       "       [11.7],\n",
       "       [13.8],\n",
       "       [ 9.9],\n",
       "       [10.2],\n",
       "       [ 8.1],\n",
       "       [13.8],\n",
       "       [ 7.7],\n",
       "       [11.5],\n",
       "       [ 8.9],\n",
       "       [ 9.6],\n",
       "       [ 9.4],\n",
       "       [ 7.8],\n",
       "       [ 7.6],\n",
       "       [ 8. ],\n",
       "       [ 6.3],\n",
       "       [ 5.2],\n",
       "       [ 5. ],\n",
       "       [ 3.9],\n",
       "       [ 3.2],\n",
       "       [ 2.4],\n",
       "       [ 3.3],\n",
       "       [ 2.1],\n",
       "       [ 2. ],\n",
       "       [ 1.6],\n",
       "       [ 1.3],\n",
       "       [ 1.3],\n",
       "       [19.8],\n",
       "       [18.3],\n",
       "       [19.6],\n",
       "       [15.3],\n",
       "       [14.4],\n",
       "       [16. ],\n",
       "       [19.8],\n",
       "       [10.1],\n",
       "       [11. ],\n",
       "       [12.3],\n",
       "       [ 8.2],\n",
       "       [ 5.7],\n",
       "       [ 5.3],\n",
       "       [ 4.3],\n",
       "       [ 3.9],\n",
       "       [ 3.2],\n",
       "       [19.5],\n",
       "       [15.8],\n",
       "       [13.6],\n",
       "       [ 6.8],\n",
       "       [10.8],\n",
       "       [ 7.2],\n",
       "       [ 6.6],\n",
       "       [ 6.3],\n",
       "       [ 5.7],\n",
       "       [ 5. ],\n",
       "       [ 4.4],\n",
       "       [ 3.3],\n",
       "       [ 2.6],\n",
       "       [ 2.6],\n",
       "       [ 2.6],\n",
       "       [ 3.1],\n",
       "       [ 2.3],\n",
       "       [ 2.3],\n",
       "       [ 2.2],\n",
       "       [ 2.1],\n",
       "       [ 1.5],\n",
       "       [ 1.1],\n",
       "       [ 1.1],\n",
       "       [ 1. ],\n",
       "       [ 1.5],\n",
       "       [ 1. ],\n",
       "       [ 0.7],\n",
       "       [ 0.7],\n",
       "       [ 0. ],\n",
       "       [ 0. ],\n",
       "       [29.6],\n",
       "       [20.6],\n",
       "       [24. ],\n",
       "       [19.4],\n",
       "       [20.1],\n",
       "       [23.4],\n",
       "       [19.9],\n",
       "       [12.7],\n",
       "       [12.9],\n",
       "       [12.5],\n",
       "       [10.7],\n",
       "       [12.5],\n",
       "       [ 4.8],\n",
       "       [ 6.3],\n",
       "       [ 3.8],\n",
       "       [ 3.8],\n",
       "       [ 3.3],\n",
       "       [ 0.8],\n",
       "       [ 2.7],\n",
       "       [29.7],\n",
       "       [18.2],\n",
       "       [15.7],\n",
       "       [ 6.4],\n",
       "       [ 5.3],\n",
       "       [ 5.1],\n",
       "       [ 5.5],\n",
       "       [10.2],\n",
       "       [ 5.4],\n",
       "       [ 4. ],\n",
       "       [ 3.4],\n",
       "       [ 6. ],\n",
       "       [ 5.1],\n",
       "       [ 4.2],\n",
       "       [ 5.2],\n",
       "       [ 4.5],\n",
       "       [ 3.7],\n",
       "       [ 3.5],\n",
       "       [ 2. ],\n",
       "       [ 3.1],\n",
       "       [ 2.2],\n",
       "       [ 2.2],\n",
       "       [ 2.1],\n",
       "       [ 3. ],\n",
       "       [ 1.9],\n",
       "       [ 2.3],\n",
       "       [ 1.6],\n",
       "       [ 1. ],\n",
       "       [ 0.9],\n",
       "       [ 0.8],\n",
       "       [ 1.7],\n",
       "       [ 1.2],\n",
       "       [ 0.7],\n",
       "       [ 0.7],\n",
       "       [38. ],\n",
       "       [32.3],\n",
       "       [22.4],\n",
       "       [16.9],\n",
       "       [16.5],\n",
       "       [20. ],\n",
       "       [13.6],\n",
       "       [10.3],\n",
       "       [11.4],\n",
       "       [14.2],\n",
       "       [12.4],\n",
       "       [10.2],\n",
       "       [ 8.7],\n",
       "       [ 9.7],\n",
       "       [ 7.6],\n",
       "       [ 7.4],\n",
       "       [ 7.2],\n",
       "       [ 9.1],\n",
       "       [ 7. ],\n",
       "       [ 3.6],\n",
       "       [ 3.6],\n",
       "       [ 5.3],\n",
       "       [ 3. ],\n",
       "       [ 3. ],\n",
       "       [ 2.1],\n",
       "       [17.8],\n",
       "       [13.5],\n",
       "       [12.3],\n",
       "       [ 5.9],\n",
       "       [10.4],\n",
       "       [13.7],\n",
       "       [ 5.3],\n",
       "       [ 4.1],\n",
       "       [ 3.4],\n",
       "       [ 3.3],\n",
       "       [ 3.1],\n",
       "       [ 3.6],\n",
       "       [ 2.8],\n",
       "       [ 3.5],\n",
       "       [ 2.7],\n",
       "       [ 3. ],\n",
       "       [ 1.8],\n",
       "       [ 3.2],\n",
       "       [ 2.8],\n",
       "       [ 2.4],\n",
       "       [ 2.1],\n",
       "       [ 1.7],\n",
       "       [ 1.7],\n",
       "       [ 1.6],\n",
       "       [ 1.1],\n",
       "       [ 1.4],\n",
       "       [ 0.9],\n",
       "       [ 1.2],\n",
       "       [ 1.2],\n",
       "       [ 1.1],\n",
       "       [ 0.7],\n",
       "       [ 0.6],\n",
       "       [ 0.4],\n",
       "       [14. ],\n",
       "       [10.1],\n",
       "       [ 4.4],\n",
       "       [ 3.3],\n",
       "       [ 3.5],\n",
       "       [ 3.5],\n",
       "       [ 2.3],\n",
       "       [ 3.9],\n",
       "       [ 3.8],\n",
       "       [ 2.3],\n",
       "       [ 2.4],\n",
       "       [ 2. ],\n",
       "       [ 2.3],\n",
       "       [ 1.4],\n",
       "       [ 1.4],\n",
       "       [ 1.5],\n",
       "       [ 1.2],\n",
       "       [ 1.5],\n",
       "       [ 2.5],\n",
       "       [ 0.8],\n",
       "       [ 1. ],\n",
       "       [ 1.3],\n",
       "       [ 1.3],\n",
       "       [ 1. ],\n",
       "       [ 0.6],\n",
       "       [ 0.6],\n",
       "       [ 0.5],\n",
       "       [ 0.5],\n",
       "       [ 0.5],\n",
       "       [ 0.7],\n",
       "       [ 0.4],\n",
       "       [ 0.7],\n",
       "       [ 0.4]])"
      ]
     },
     "execution_count": 3,
     "metadata": {},
     "output_type": "execute_result"
    }
   ],
   "source": [
    "# Assign the data to X and y\n",
    "# Note: Sklearn requires a two-dimensional array of values\n",
    "# so we use reshape to create this\n",
    "\n",
    "X = TE.OpponentPositionRank.values.reshape(-1, 1)\n",
    "y = TE.FantasyPointsPPR.values.reshape(-1, 1)\n",
    "\n",
    "print(\"Shape: \", X.shape, y.shape)\n",
    "y"
   ]
  },
  {
   "cell_type": "code",
   "execution_count": 4,
   "id": "5302f429",
   "metadata": {},
   "outputs": [
    {
     "data": {
      "text/plain": [
       "<matplotlib.collections.PathCollection at 0x19de0e8b978>"
      ]
     },
     "execution_count": 4,
     "metadata": {},
     "output_type": "execute_result"
    },
    {
     "data": {
      "image/png": "[encoded data removed]",
      "text/plain": [
       "<Figure size 432x288 with 1 Axes>"
      ]
     },
     "metadata": {
      "needs_background": "light"
     },
     "output_type": "display_data"
    }
   ],
   "source": [
    "plt.scatter(y, X)"
   ]
  },
  {
   "cell_type": "code",
   "execution_count": 5,
   "id": "c47ac766",
   "metadata": {},
   "outputs": [],
   "source": [
    "from sklearn.linear_model import LinearRegression\n",
    "\n",
    "model = LinearRegression()\n"
   ]
  },
  {
   "cell_type": "code",
   "execution_count": 6,
   "id": "0af063b9",
   "metadata": {},
   "outputs": [
    {
     "data": {
      "text/plain": [
       "LinearRegression()"
      ]
     },
     "execution_count": 6,
     "metadata": {},
     "output_type": "execute_result"
    }
   ],
   "source": [
    "# Fit the model to the data. \n",
    "# Note: This is the training step where you fit the line to the data.\n",
    "\n",
    "### BEGIN SOLUTION\n",
    "\n",
    "model.fit(X, y)\n",
    "\n",
    "### END SOLUTION"
   ]
  },
  {
   "cell_type": "code",
   "execution_count": 7,
   "id": "c2aab6ca",
   "metadata": {},
   "outputs": [
    {
     "name": "stdout",
     "output_type": "stream",
     "text": [
      "Weight coefficients:  [[0.21684324]]\n",
      "y-axis intercept:  [4.34435911]\n"
     ]
    }
   ],
   "source": [
    "print('Weight coefficients: ', model.coef_)\n",
    "print('y-axis intercept: ', model.intercept_)"
   ]
  },
  {
   "cell_type": "code",
   "execution_count": 8,
   "id": "b3695286",
   "metadata": {},
   "outputs": [
    {
     "name": "stdout",
     "output_type": "stream",
     "text": [
      "Min X Value: [[1]]\n",
      "Max X Value: [[32]]\n"
     ]
    }
   ],
   "source": [
    "x_min = np.array([[X.min()]])\n",
    "x_max = np.array([[X.max()]])\n",
    "print(f\"Min X Value: {x_min}\")\n",
    "print(f\"Max X Value: {x_max}\")"
   ]
  },
  {
   "cell_type": "code",
   "execution_count": 9,
   "id": "dce595dc",
   "metadata": {},
   "outputs": [],
   "source": [
    "y_min = model.predict(x_min)\n",
    "y_max = model.predict(x_max)"
   ]
  },
  {
   "cell_type": "code",
   "execution_count": 13,
   "id": "78aed7f1",
   "metadata": {},
   "outputs": [
    {
     "data": {
      "text/plain": [
       "Text(0, 0.5, 'Opponent Position Rank')"
      ]
     },
     "execution_count": 13,
     "metadata": {},
     "output_type": "execute_result"
    },
    {
     "data": {
      "image/png": "[encoded data removed]",
      "text/plain": [
       "<Figure size 432x288 with 1 Axes>"
      ]
     },
     "metadata": {
      "needs_background": "light"
     },
     "output_type": "display_data"
    }
   ],
   "source": [
    "plt.scatter(y, X, c='blue')\n",
    "plt.plot([x_min[0], x_max[0]], [y_min[0], y_max[0]], c='red')\n",
    "plt.title('2020 16 WEEKS TE - Opponent Position Rank vs PTS')\n",
    "plt.xlabel('PTS')\n",
    "plt.ylabel('Opponent Position Rank')"
   ]
  },
  {
   "cell_type": "code",
   "execution_count": 12,
   "id": "6eff7d0b",
   "metadata": {},
   "outputs": [
    {
     "name": "stdout",
     "output_type": "stream",
     "text": [
      "Mean Squared Error (MSE): 41.79980903596484\n",
      "R-squared (R2 ): 0.08417919820486364\n"
     ]
    }
   ],
   "source": [
    "from sklearn.metrics import mean_squared_error, r2_score\n",
    "\n",
    "predicted = model.predict(X)\n",
    "\n",
    "# Score the prediction with mse and r2\n",
    "mse = mean_squared_error(y, predicted)\n",
    "r2 = r2_score(y, predicted)\n",
    "\n",
    "print(f\"Mean Squared Error (MSE): {mse}\")\n",
    "print(f\"R-squared (R2 ): {r2}\")"
   ]
  },
  {
   "cell_type": "code",
   "execution_count": 13,
   "id": "fcaf3f7d",
   "metadata": {},
   "outputs": [
    {
     "data": {
      "text/plain": [
       "0.08417919820486364"
      ]
     },
     "execution_count": 13,
     "metadata": {},
     "output_type": "execute_result"
    }
   ],
   "source": [
    "# Overall Score for the model\n",
    "model.score(X, y)"
   ]
  },
  {
   "cell_type": "code",
   "execution_count": 14,
   "id": "156cca8d",
   "metadata": {},
   "outputs": [],
   "source": [
    "from sklearn.model_selection import train_test_split\n",
    "\n",
    "X_train, X_test, y_train, y_test = train_test_split(X, y, random_state=42)"
   ]
  },
  {
   "cell_type": "code",
   "execution_count": 15,
   "id": "fa492b6a",
   "metadata": {},
   "outputs": [
    {
     "data": {
      "text/plain": [
       "LinearRegression()"
      ]
     },
     "execution_count": 15,
     "metadata": {},
     "output_type": "execute_result"
    }
   ],
   "source": [
    "model.fit(X_train, y_train)"
   ]
  },
  {
   "cell_type": "code",
   "execution_count": 16,
   "id": "fe688292",
   "metadata": {},
   "outputs": [
    {
     "data": {
      "text/plain": [
       "0.08854177798430685"
      ]
     },
     "execution_count": 16,
     "metadata": {},
     "output_type": "execute_result"
    }
   ],
   "source": [
    "model.score(X_test, y_test)"
   ]
  }
 ],
 "metadata": {
  "kernelspec": {
   "display_name": "Python 3",
   "language": "python",
   "name": "python3"
  },
  "language_info": {
   "codemirror_mode": {
    "name": "ipython",
    "version": 3
   },
   "file_extension": ".py",
   "mimetype": "text/x-python",
   "name": "python",
   "nbconvert_exporter": "python",
   "pygments_lexer": "ipython3",
   "version": "3.6.13"
  }
 },
 "nbformat": 4,
 "nbformat_minor": 5
}
