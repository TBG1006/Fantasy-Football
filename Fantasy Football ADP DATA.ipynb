{
 "cells": [
  {
   "cell_type": "code",
   "execution_count": null,
   "id": "soviet-creator",
   "metadata": {},
   "outputs": [],
   "source": [
    "#import dependencies\n",
    "import pandas as pd\n",
    "from sqlalchemy import create_engine"
   ]
  },
  {
   "cell_type": "code",
   "execution_count": null,
   "id": "signed-chile",
   "metadata": {},
   "outputs": [],
   "source": [
    "base_url = \"https://api.sportsdata.io/v3/nfl/stats/json/FantasyPlayers?\"\n",
    "units = \"imperial\"\n",
    "query_url = f\"{base_url}appid={weather_api_key}&units={units}&q=\"\n",
    "\n",
    "https://api.sportsdata.io/v3/nfl/stats/json/FantasyPlayers?key=4339cb9aa27441699f1883848f498899"
   ]
  },
  {
   "cell_type": "code",
   "execution_count": null,
   "id": "worse-orientation",
   "metadata": {},
   "outputs": [],
   "source": [
    "#Create connection to postgre\n",
    "connection_string = \"postgres:postgres@localhost:5432/NBA_db\"\n",
    "engine = create_engine(f'postgresql://{connection_string}')"
   ]
  }
 ],
 "metadata": {
  "kernelspec": {
   "display_name": "Python 3",
   "language": "python",
   "name": "python3"
  },
  "language_info": {
   "codemirror_mode": {
    "name": "ipython",
    "version": 3
   },
   "file_extension": ".py",
   "mimetype": "text/x-python",
   "name": "python",
   "nbconvert_exporter": "python",
   "pygments_lexer": "ipython3",
   "version": "3.8.8"
  }
 },
 "nbformat": 4,
 "nbformat_minor": 5
}
