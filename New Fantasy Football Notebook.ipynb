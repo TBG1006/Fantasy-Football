{
 "cells": [
  {
   "cell_type": "code",
   "execution_count": null,
   "metadata": {},
   "outputs": [],
   "source": [
    "\n",
    "#import dependencies\n",
    "import pandas as pd\n",
    "import requests\n",
    "import time\n",
    "import json\n",
    "from sqlalchemy.ext.automap import automap_base\n",
    "from sqlalchemy.orm import Session\n",
    "from sqlalchemy import create_engine, func,inspect"
   ]
  },
  {
   "cell_type": "code",
   "execution_count": null,
   "metadata": {},
   "outputs": [],
   "source": [
    "#Pull full dataset from Fantasy API and in json pretty format\n",
    "\n",
    "query_url = f\"https://api.sportsdata.io/v3/nfl/stats/json/FantasyPlayers?key=4339cb9aa27441699f1883848f498899\"\n",
    "response = requests.get(query_url).json()\n",
    "print(json.dumps(response,indent=1))"
   ]
  },
  {
   "cell_type": "code",
   "execution_count": null,
   "metadata": {},
   "outputs": [],
   "source": [
    "#Create Data Frame from API results (includes all fields)\n",
    "df= pd.read_json(f\"https://api.sportsdata.io/v3/nfl/stats/json/FantasyPlayers?key=4339cb9aa27441699f1883848f498899\")"
   ]
  },
  {
   "cell_type": "code",
   "execution_count": null,
   "metadata": {},
   "outputs": [],
   "source": [
    "#BY\n",
    "#Create Data Frame that will be used to create a table of just positions that wil be used for site drop down\n",
    "position = df[\"Position\"].unique()\n",
    "position_dropdown_df = pd.DataFrame(position).rename(columns={0:'Position'})\n",
    "position_dropdown_df\n",
    "# position_df =pd.DataFrame(position)"
   ]
  },
  {
   "cell_type": "code",
   "execution_count": null,
   "metadata": {},
   "outputs": [],
   "source": [
    "#BY\n",
    "#Create Data Frame that will be used to create table of all stats for each posiiton (5 total)\n",
    "#RB\n",
    "\n",
    "RB = df.drop(columns =[\"FantasyPlayerKey\", \"PlayerID\",\"AuctionValue\",\"AuctionValuePPR\",\"AverageDraftPositionIDP\",\"AverageDraftPositionRookie\",\"AverageDraftPositionDynasty\",\"AverageDraftPosition2QB\"])\n",
    "RB_df = RB.loc[RB[\"Position\"]==\"RB\"]\n",
    "RB_df\n",
    "# # RB_df = df[\"Position\"].u\n",
    "# oc[concatenated_df[\"3_TECH_ORG_CORRECT\"]==\"1\"]nique()\n",
    "\n",
    "# tech_mental_health = concatenated_df.loc[concatenated_df[\"3_TECH_ORG_CORRECT\"]==\"1\"]\n",
    "# tech_mental_health\n",
    "\n",
    "# position_df = pd.DataFrame(position).rename(columns={0:'Position'})\n",
    "# position_df\n",
    "\n",
    "# \"Team\",\"Position\",\"AverageDraftPosition\", \"AverageDraftPositionPPR\", \"ByeWeek\", \"LastSeasonFantasyPoints\", \"ProjectedFantasyPoints\"\\\n",
    "#                 from \"ADP_Data\"\\"
   ]
  },
  {
   "cell_type": "code",
   "execution_count": null,
   "metadata": {},
   "outputs": [],
   "source": [
    "#Create Highlights table: to appear on Home page; extract players from positions with lowest ADP for the week\n",
    "highlights = df[[\"Name\", \"Team\", \"Position\",\"AverageDraftPosition\",\"AverageDraftPositionPPR\",\"ByeWeek\",\"LastSeasonFantasyPoints\",\"ProjectedFantasyPoints\"]].groupby(\"Position\", as_index=False).apply(lambda df:df.sort_values(\"AverageDraftPosition\", ascending=True)\n",
    ".head(1)).droplevel(0).sort_values(\"Position\", ascending=True)\n",
    "highlights"
   ]
  },
  {
   "cell_type": "code",
   "execution_count": null,
   "metadata": {},
   "outputs": [],
   "source": [
    "#BY\n",
    "#Create Data Frame that will be used to create table of all stats for each posiiton (5 total)\n",
    "#WR \n",
    "\n",
    "WR = df.drop(columns =[\"FantasyPlayerKey\", \"PlayerID\",\"AuctionValue\",\"AuctionValuePPR\",\"AverageDraftPositionIDP\",\"AverageDraftPositionRookie\",\"AverageDraftPositionDynasty\",\"AverageDraftPosition2QB\"])\n",
    "WR_df = WR.loc[WR[\"Position\"]==\"WR\"]\n",
    "WR_df"
   ]
  },
  {
   "cell_type": "code",
   "execution_count": null,
   "metadata": {},
   "outputs": [],
   "source": [
    "#BY\n",
    "#Create Data Frame that will be used to create table of all stats for each posiiton (5 total)\n",
    "#TE\n",
    "\n",
    "TE = df.drop(columns =[\"FantasyPlayerKey\", \"PlayerID\",\"AuctionValue\",\"AuctionValuePPR\",\"AverageDraftPositionIDP\",\"AverageDraftPositionRookie\",\"AverageDraftPositionDynasty\",\"AverageDraftPosition2QB\"])\n",
    "TE_df = TE.loc[TE[\"Position\"]==\"TE\"]\n",
    "TE_df"
   ]
  },
  {
   "cell_type": "code",
   "execution_count": null,
   "metadata": {},
   "outputs": [],
   "source": [
    "\n",
    "#BY\n",
    "#Create Data Frame that will be used to create table of all stats for each posiiton (5 total)\n",
    "#QB\n",
    "\n",
    "QB = df.drop(columns =[\"FantasyPlayerKey\", \"PlayerID\",\"AuctionValue\",\"AuctionValuePPR\",\"AverageDraftPositionIDP\",\"AverageDraftPositionRookie\",\"AverageDraftPositionDynasty\",\"AverageDraftPosition2QB\"])\n",
    "QB_df = QB.loc[QB[\"Position\"]==\"QB\"]\n",
    "QB_df"
   ]
  },
  {
   "cell_type": "code",
   "execution_count": null,
   "metadata": {},
   "outputs": [],
   "source": [
    "DEF = df.drop(columns =[\"FantasyPlayerKey\", \"PlayerID\",\"AuctionValue\",\"AuctionValuePPR\",\"AverageDraftPositionIDP\",\"AverageDraftPositionRookie\",\"AverageDraftPositionDynasty\",\"AverageDraftPosition2QB\"])\n",
    "DEF_df = DEF.loc[DEF[\"Position\"]==\"DEF\"]\n",
    "DEF_df"
   ]
  },
  {
   "cell_type": "code",
   "execution_count": null,
   "metadata": {},
   "outputs": [],
   "source": [
    "K = df.drop(columns =[\"FantasyPlayerKey\", \"PlayerID\",\"AuctionValue\",\"AuctionValuePPR\",\"AverageDraftPositionIDP\",\"AverageDraftPositionRookie\",\"AverageDraftPositionDynasty\",\"AverageDraftPosition2QB\"])\n",
    "K_df = DEF.loc[K[\"Position\"]==\"K\"]\n",
    "K_df"
   ]
  },
  {
   "cell_type": "code",
   "execution_count": null,
   "metadata": {},
   "outputs": [],
   "source": [
    "#Load DF into Database NFL_Fantasy_Data\n",
    "#Create connection to Postgres\n",
    "connection_string = \"postgres:postgres@localhost:5432/NFL_Fantasy_Data\"\n",
    "engine = create_engine(f'postgresql://{connection_string}')"
   ]
  },
  {
   "cell_type": "code",
   "execution_count": null,
   "metadata": {},
   "outputs": [],
   "source": [
    "# Create ADP table and load into DB\n",
    "df.to_sql(name='ADP_Data', con=engine, if_exists='append', index=False)"
   ]
  },
  {
   "cell_type": "code",
   "execution_count": null,
   "metadata": {},
   "outputs": [],
   "source": [
    "#BY\n",
    "#Create Dropdown table and load into DB\n",
    "position_dropdown_df.to_sql(name='Position_dropdown', con=engine, if_exists='append', index=False)"
   ]
  },
  {
   "cell_type": "code",
   "execution_count": null,
   "metadata": {},
   "outputs": [],
   "source": [
    "#BY\n",
    "#Create  table and load into DB\n",
    "RB_df.to_sql(name='RB_Data', con=engine, if_exists='append', index=False)"
   ]
  },
  {
   "cell_type": "code",
   "execution_count": null,
   "metadata": {},
   "outputs": [],
   "source": [
    "#BY\n",
    "#Create  table and load into DB\n",
    "WR_df.to_sql(name='WR_Data', con=engine, if_exists='append', index=False)"
   ]
  },
  {
   "cell_type": "code",
   "execution_count": null,
   "metadata": {},
   "outputs": [],
   "source": [
    "#BY\n",
    "#Create  table and load into DB\n",
    "TE_df.to_sql(name='TE_Data', con=engine, if_exists='append', index=False)"
   ]
  },
  {
   "cell_type": "code",
   "execution_count": null,
   "metadata": {},
   "outputs": [],
   "source": [
    "#BY\n",
    "#Create  table and load into DB\n",
    "QB_df.to_sql(name='QB_Data', con=engine, if_exists='append', index=False)"
   ]
  },
  {
   "cell_type": "code",
   "execution_count": null,
   "metadata": {},
   "outputs": [],
   "source": [
    "#BY\n",
    "#Create DEF table and load into DB\n",
    "DEF_df.to_sql(name='DEF_Data', con=engine, if_exists='append', index=False)"
   ]
  },
  {
   "cell_type": "code",
   "execution_count": null,
   "metadata": {},
   "outputs": [],
   "source": [
    "#BY\n",
    "#Create K table and load into DB\n",
    "K_df.to_sql(name='K_Data', con=engine, if_exists='append', index=False)"
   ]
  },
  {
   "cell_type": "code",
   "execution_count": null,
   "metadata": {},
   "outputs": [],
   "source": [
    "#Create highlights table and load into DB\n",
    "highlights.to_sql(name='Highlights_Data', con=engine, if_exists='append', index=False)"
   ]
  },
  {
   "cell_type": "code",
   "execution_count": null,
   "metadata": {},
   "outputs": [],
   "source": [
    "#confirm data succesfully loaded in\n",
    "\n",
    "pd.read_sql_query('select * from \"ADP_Data\"', con=engine)"
   ]
  },
  {
   "cell_type": "code",
   "execution_count": null,
   "metadata": {},
   "outputs": [],
   "source": [
    "# Query to find the unique positions of each player; to be used for Landing Page Dropdown\n",
    "pd.read_sql_query('Select distinct \"Position\"from \"ADP_Data\";', con=engine)"
   ]
  },
  {
   "cell_type": "code",
   "execution_count": null,
   "metadata": {},
   "outputs": [],
   "source": [
    "#Note: We are creating views and displaying stats based on the Draft Pick method of selection instead of auction method. We used all position values instead of looking at individual position values exclusively (IDP)\n",
    "# Query to find the stats per each position once drop down in Landing Page is selected. \n",
    "# Want this sorted by ADP Ranking; replicate this query for each position  \n",
    "\n",
    "#DEF\n",
    "\n",
    "wr_query = \"\"\"\n",
    "Select \"Name\", \"Team\",\"Position\",\"AverageDraftPosition\", \"AverageDraftPositionPPR\", \"ByeWeek\", \"LastSeasonFantasyPoints\", \"ProjectedFantasyPoints\"\\\n",
    "                from \"ADP_Data\"\\\n",
    "                where \"Position\"= 'WR' order by \"AverageDraftPosition\" asc;\n",
    "\"\"\"\n",
    "\n",
    "pd.read_sql_query(wr_query, con=engine)"
   ]
  },
  {
   "cell_type": "code",
   "execution_count": null,
   "metadata": {},
   "outputs": [],
   "source": [
    "#Create connection to Postgres\n",
    "connection_string = \"postgres:postgres@localhost:5432/NFL_Fantasy_Data\"\n",
    "engine = create_engine(f'postgresql://{connection_string}')"
   ]
  },
  {
   "cell_type": "code",
   "execution_count": null,
   "metadata": {},
   "outputs": [],
   "source": [
    "\n",
    "Base = automap_base()"
   ]
  },
  {
   "cell_type": "code",
   "execution_count": null,
   "metadata": {},
   "outputs": [],
   "source": [
    "Base.prepare(engine, reflect= True)"
   ]
  },
  {
   "cell_type": "code",
   "execution_count": null,
   "metadata": {},
   "outputs": [],
   "source": [
    "Base.classes.keys()"
   ]
  }
 ],
 "metadata": {
  "kernelspec": {
   "display_name": "Python 3",
   "language": "python",
   "name": "python3"
  },
  "language_info": {
   "codemirror_mode": {
    "name": "ipython",
    "version": 3
   },
   "file_extension": ".py",
   "mimetype": "text/x-python",
   "name": "python",
   "nbconvert_exporter": "python",
   "pygments_lexer": "ipython3",
   "version": "3.8.5"
  }
 },
 "nbformat": 4,
 "nbformat_minor": 4
}
