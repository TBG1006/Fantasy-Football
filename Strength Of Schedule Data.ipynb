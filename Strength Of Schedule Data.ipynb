{
 "cells": [
  {
   "cell_type": "code",
   "execution_count": 1,
   "id": "ultimate-david",
   "metadata": {},
   "outputs": [],
   "source": [
    "#import dependencies\n",
    "import pandas as pd\n",
    "import requests\n",
    "import time\n",
    "import json\n",
    "from sqlalchemy.ext.automap import automap_base\n",
    "from sqlalchemy.orm import Session\n",
    "from sqlalchemy import create_engine, func,inspect"
   ]
  },
  {
   "cell_type": "markdown",
   "id": "confused-import",
   "metadata": {},
   "source": [
    "# Test API to create data frame for one week"
   ]
  },
  {
   "cell_type": "code",
   "execution_count": null,
   "id": "royal-magnet",
   "metadata": {},
   "outputs": [],
   "source": [
    "query_url = f\"https://api.sportsdata.io/v3/nfl/projections/json/PlayerGameProjectionStatsByWeek/2020REG/1?key=4339cb9aa27441699f1883848f498899\"\n",
    "response = requests.get(query_url).json()\n",
    "print(json.dumps(response[0],indent=1))\n",
    "# print(denselist[:100])"
   ]
  },
  {
   "cell_type": "code",
   "execution_count": null,
   "id": "sound-bishop",
   "metadata": {},
   "outputs": [],
   "source": [
    "wk1_df = pd.DataFrame(columns=[\"PlayerID\", \"Name\", \"Team\", \"Position\", \"Activated\", \"Played\", \"Started\", \"FantasyPoints\", \"FantasyPointsPPR\", \"OpponentRank\", \"OpponentPositionRank\"])\n",
    "# wk1_df = pd.DataFrame(columns=[\"PlayerID\"])\n",
    "wk1_df\n"
   ]
  },
  {
   "cell_type": "code",
   "execution_count": null,
   "id": "piano-gibraltar",
   "metadata": {},
   "outputs": [],
   "source": [
    "for i in range(0,len(response)):\n",
    "    currentItem = response[i]\n",
    "#     wk1_df.loc[i] = [response[i][\"PlayerID\"]]\n",
    "    wk1_df.loc[i] = [response[i][\"PlayerID\"], response[i][\"Name\"], response[i][\"Team\"], response[i][\"Position\"], response[i][\"Activated\"], response[i][\"Played\"], response[i][\"Started\"], response[i][\"FantasyPoints\"], response[i][\"FantasyPointsPPR\"], response[i][\"OpponentRank\"], response[i][\"OpponentPositionRank\"]]"
   ]
  },
  {
   "cell_type": "code",
   "execution_count": null,
   "id": "norwegian-gardening",
   "metadata": {},
   "outputs": [],
   "source": [
    "wk1_df"
   ]
  },
  {
   "cell_type": "code",
   "execution_count": null,
   "id": "southern-mystery",
   "metadata": {},
   "outputs": [],
   "source": [
    "wk1_df.to_csv('week_one_test_data.csv', index=False)"
   ]
  },
  {
   "cell_type": "markdown",
   "id": "incorrect-exclusion",
   "metadata": {},
   "source": [
    "# Loop Through 17 APIs to get 2020 data"
   ]
  },
  {
   "cell_type": "code",
   "execution_count": null,
   "id": "superior-notebook",
   "metadata": {},
   "outputs": [],
   "source": [
    "# Create counter to loop through 17 API calls, one for each week. \n",
    "API_week = 1\n",
    "#year\n",
    "API_year = \"2020REG\"\n",
    "\n",
    "#Create url for 17 API calls\n",
    "loop_url = f\"https://api.sportsdata.io/v3/nfl/projections/json/PlayerGameProjectionStatsByWeek/{API_year}/{API_week}?key=4339cb9aa27441699f1883848f498899\"\n",
    "loop_response = requests.get(loop_url).json()\n",
    "print(json.dumps(loop_response[0], indent=1))\n",
    "# print(denselist[:100])"
   ]
  },
  {
   "cell_type": "code",
   "execution_count": null,
   "id": "entertaining-ceramic",
   "metadata": {},
   "outputs": [],
   "source": [
    "# Add the column week to df, to make sure all weeks are captured\n",
    "# All_2020_df = pd.DataFrame(columns=[\"PlayerID\", \"Name\", \"Week\", Position\", \"Activated\", \"Played\", \"Started\", \"FantasyPoints\", \"FantasyPointsPPR\", \"OpponentRank\", \"OpponentPositionRank\"])\n",
    "All_2020_df = pd.DataFrame(columns=[\"PlayerID\", \"Week\", \"Team\", \"Position\"])\n",
    "All_2020_df\n"
   ]
  },
  {
   "cell_type": "code",
   "execution_count": 29,
   "id": "reliable-range",
   "metadata": {},
   "outputs": [
    {
     "ename": "IndentationError",
     "evalue": "unindent does not match any outer indentation level (<tokenize>, line 22)",
     "output_type": "error",
     "traceback": [
      "\u001b[1;36m  File \u001b[1;32m\"<tokenize>\"\u001b[1;36m, line \u001b[1;32m22\u001b[0m\n\u001b[1;33m    API_week = API_week + 1\u001b[0m\n\u001b[1;37m    ^\u001b[0m\n\u001b[1;31mIndentationError\u001b[0m\u001b[1;31m:\u001b[0m unindent does not match any outer indentation level\n"
     ]
    }
   ],
   "source": [
    "PlayerID = []\n",
    "Week = [] \n",
    "Team = [] \n",
    "Position = []\n",
    "\n",
    "API_week = 1\n",
    "#year\n",
    "API_year = \"2020REG\"\n",
    "# print(API_week)\n",
    "\n",
    "#Create url for 17 API calls\n",
    "loop_url = f\"https://api.sportsdata.io/v3/nfl/projections/json/PlayerGameProjectionStatsByWeek/{API_year}/{API_week}?key=4339cb9aa27441699f1883848f498899\"\n",
    "loop_response = requests.get(loop_url).json()\n",
    "# print(loop_url)\n",
    "\n",
    "for x in range (0,2):\n",
    "        \n",
    "        API_week = API_week + 1\n",
    "        loop_url = f\"https://api.sportsdata.io/v3/nfl/projections/json/PlayerGameProjectionStatsByWeek/{API_year}/{API_week}?key=4339cb9aa27441699f1883848f498899\"\n",
    "    for i in range(0,len(loop_response)):\n",
    "#             ID = loop_response[i][\"PlayerID\"]\n",
    "#             PlayerID.append(ID)\n",
    "            WK = loop_response[i][\"Week\"]\n",
    "            Week.append(WK)\n",
    "        #         loop_response = requests.get(loop_url).json()\n",
    "        print(API_week)\n",
    "        print(loop_url)"
   ]
  },
  {
   "cell_type": "code",
   "execution_count": 27,
   "id": "relative-documentation",
   "metadata": {},
   "outputs": [
    {
     "name": "stdout",
     "output_type": "stream",
     "text": [
      "[]\n",
      "1608\n",
      "[1, 1, 1, 1, 1, 1, 1, 1, 1, 1, 1, 1, 1, 1, 1, 1, 1, 1, 1, 1, 1, 1, 1, 1, 1, 1, 1, 1, 1, 1, 1, 1, 1, 1, 1, 1, 1, 1, 1, 1, 1, 1, 1, 1, 1, 1, 1, 1, 1, 1, 1, 1, 1, 1, 1, 1, 1, 1, 1, 1, 1, 1, 1, 1, 1, 1, 1, 1, 1, 1, 1, 1, 1, 1, 1, 1, 1, 1, 1, 1, 1, 1, 1, 1, 1, 1, 1, 1, 1, 1, 1, 1, 1, 1, 1, 1, 1, 1, 1, 1, 1, 1, 1, 1, 1, 1, 1, 1, 1, 1, 1, 1, 1, 1, 1, 1, 1, 1, 1, 1, 1, 1, 1, 1, 1, 1, 1, 1, 1, 1, 1, 1, 1, 1, 1, 1, 1, 1, 1, 1, 1, 1, 1, 1, 1, 1, 1, 1, 1, 1, 1, 1, 1, 1, 1, 1, 1, 1, 1, 1, 1, 1, 1, 1, 1, 1, 1, 1, 1, 1, 1, 1, 1, 1, 1, 1, 1, 1, 1, 1, 1, 1, 1, 1, 1, 1, 1, 1, 1, 1, 1, 1, 1, 1, 1, 1, 1, 1, 1, 1, 1, 1, 1, 1, 1, 1, 1, 1, 1, 1, 1, 1, 1, 1, 1, 1, 1, 1, 1, 1, 1, 1, 1, 1, 1, 1, 1, 1, 1, 1, 1, 1, 1, 1, 1, 1, 1, 1, 1, 1, 1, 1, 1, 1, 1, 1, 1, 1, 1, 1, 1, 1, 1, 1, 1, 1, 1, 1, 1, 1, 1, 1, 1, 1, 1, 1, 1, 1, 1, 1, 1, 1, 1, 1, 1, 1, 1, 1, 1, 1, 1, 1, 1, 1, 1, 1, 1, 1, 1, 1, 1, 1, 1, 1, 1, 1, 1, 1, 1, 1, 1, 1, 1, 1, 1, 1, 1, 1, 1, 1, 1, 1, 1, 1, 1, 1, 1, 1, 1, 1, 1, 1, 1, 1, 1, 1, 1, 1, 1, 1, 1, 1, 1, 1, 1, 1, 1, 1, 1, 1, 1, 1, 1, 1, 1, 1, 1, 1, 1, 1, 1, 1, 1, 1, 1, 1, 1, 1, 1, 1, 1, 1, 1, 1, 1, 1, 1, 1, 1, 1, 1, 1, 1, 1, 1, 1, 1, 1, 1, 1, 1, 1, 1, 1, 1, 1, 1, 1, 1, 1, 1, 1, 1, 1, 1, 1, 1, 1, 1, 1, 1, 1, 1, 1, 1, 1, 1, 1, 1, 1, 1, 1, 1, 1, 1, 1, 1, 1, 1, 1, 1, 1, 1, 1, 1, 1, 1, 1, 1, 1, 1, 1, 1, 1, 1, 1, 1, 1, 1, 1, 1, 1, 1, 1, 1, 1, 1, 1, 1, 1, 1, 1, 1, 1, 1, 1, 1, 1, 1, 1, 1, 1, 1, 1, 1, 1, 1, 1, 1, 1, 1, 1, 1, 1, 1, 1, 1, 1, 1, 1, 1, 1, 1, 1, 1, 1, 1, 1, 1, 1, 1, 1, 1, 1, 1, 1, 1, 1, 1, 1, 1, 1, 1, 1, 1, 1, 1, 1, 1, 1, 1, 1, 1, 1, 1, 1, 1, 1, 1, 1, 1, 1, 1, 1, 1, 1, 1, 1, 1, 1, 1, 1, 1, 1, 1, 1, 1, 1, 1, 1, 1, 1, 1, 1, 1, 1, 1, 1, 1, 1, 1, 1, 1, 1, 1, 1, 1, 1, 1, 1, 1, 1, 1, 1, 1, 1, 1, 1, 1, 1, 1, 1, 1, 1, 1, 1, 1, 1, 1, 1, 1, 1, 1, 1, 1, 1, 1, 1, 1, 1, 1, 1, 1, 1, 1, 1, 1, 1, 1, 1, 1, 1, 1, 1, 1, 1, 1, 1, 1, 1, 1, 1, 1, 1, 1, 1, 1, 1, 1, 1, 1, 1, 1, 1, 1, 1, 1, 1, 1, 1, 1, 1, 1, 1, 1, 1, 1, 1, 1, 1, 1, 1, 1, 1, 1, 1, 1, 1, 1, 1, 1, 1, 1, 1, 1, 1, 1, 1, 1, 1, 1, 1, 1, 1, 1, 1, 1, 1, 1, 1, 1, 1, 1, 1, 1, 1, 1, 1, 1, 1, 1, 1, 1, 1, 1, 1, 1, 1, 1, 1, 1, 1, 1, 1, 1, 1, 1, 1, 1, 1, 1, 1, 1, 1, 1, 1, 1, 1, 1, 1, 1, 1, 1, 1, 1, 1, 1, 1, 1, 1, 1, 1, 1, 1, 1, 1, 1, 1, 1, 1, 1, 1, 1, 1, 1, 1, 1, 1, 1, 1, 1, 1, 1, 1, 1, 1, 1, 1, 1, 1, 1, 1, 1, 1, 1, 1, 1, 1, 1, 1, 1, 1, 1, 1, 1, 1, 1, 1, 1, 1, 1, 1, 1, 1, 1, 1, 1, 1, 1, 1, 1, 1, 1, 1, 1, 1, 1, 1, 1, 1, 1, 1, 1, 1, 1, 1, 1, 1, 1, 1, 1, 1, 1, 1, 1, 1, 1, 1, 1, 1, 1, 1, 1, 1, 1, 1, 1, 1, 1, 1, 1, 1, 1, 1, 1, 1, 1, 1, 1, 1, 1, 1, 1, 1, 1, 1, 1, 1, 1, 1, 1, 1, 1, 1, 1, 1, 1, 1, 1, 1, 1, 1, 1, 1, 1, 1, 1, 1, 1, 1, 1, 1, 1, 1, 1, 1, 1, 1, 1, 1, 1, 1, 1, 1, 1, 1, 1, 1, 1, 1, 1, 1, 1, 1, 1, 1, 1, 1, 1, 1, 1, 1, 1, 1, 1, 1, 1, 1, 1, 1, 1, 1, 1, 1, 1, 1, 1, 1, 1, 1, 1, 1, 1, 1, 1, 1, 1, 1, 1, 1, 1, 1, 1, 1, 1, 1, 1, 1, 1, 1, 1, 1, 1, 1, 1, 1, 1, 1, 1, 1, 1, 1, 1, 1, 1, 1, 1, 1, 1, 1, 1, 1, 1, 1, 1, 1, 1, 1, 1, 1, 1, 1, 1, 1, 1, 1, 1, 1, 1, 1, 1, 1, 1, 1, 1, 1, 1, 1, 1, 1, 1, 1, 1, 1, 1, 1, 1, 1, 1, 1, 1, 1, 1, 1, 1, 1, 1, 1, 1, 1, 1, 1, 1, 1, 1, 1, 1, 1, 1, 1, 1, 1, 1, 1, 1, 1, 1, 1, 1, 1, 1, 1, 1, 1, 1, 1, 1, 1, 1, 1, 1, 1, 1, 1, 1, 1, 1, 1, 1, 1, 1, 1, 1, 1, 1, 1, 1, 1, 1, 1, 1, 1, 1, 1, 1, 1, 1, 1, 1, 1, 1, 1, 1, 1, 1, 1, 1, 1, 1, 1, 1, 1, 1, 1, 1, 1, 1, 1, 1, 1, 1, 1, 1, 1, 1, 1, 1, 1, 1, 1, 1, 1, 1, 1, 1, 1, 1, 1, 1, 1, 1, 1, 1, 1, 1, 1, 1, 1, 1, 1, 1, 1, 1, 1, 1, 1, 1, 1, 1, 1, 1, 1, 1, 1, 1, 1, 1, 1, 1, 1, 1, 1, 1, 1, 1, 1, 1, 1, 1, 1, 1, 1, 1, 1, 1, 1, 1, 1, 1, 1, 1, 1, 1, 1, 1, 1, 1, 1, 1, 1, 1, 1, 1, 1, 1, 1, 1, 1, 1, 1, 1, 1, 1, 1, 1, 1, 1, 1, 1, 1, 1, 1, 1, 1, 1, 1, 1, 1, 1, 1, 1, 1, 1, 1, 1, 1, 1, 1, 1, 1, 1, 1, 1, 1, 1, 1, 1, 1, 1, 1, 1, 1, 1, 1, 1, 1, 1, 1, 1, 1, 1, 1, 1, 1, 1, 1, 1, 1, 1, 1, 1, 1, 1, 1, 1, 1, 1, 1, 1, 1, 1, 1, 1, 1, 1, 1, 1, 1, 1, 1, 1, 1, 1, 1, 1, 1, 1, 1, 1, 1, 1, 1, 1, 1, 1, 1, 1, 1, 1, 1, 1, 1, 1, 1, 1, 1, 1, 1, 1, 1, 1, 1, 1, 1, 1, 1, 1, 1, 1, 1, 1, 1, 1, 1, 1, 1, 1, 1, 1, 1, 1, 1, 1, 1, 1, 1, 1, 1, 1, 1, 1, 1, 1, 1, 1, 1, 1, 1, 1, 1, 1, 1, 1, 1, 1, 1, 1, 1, 1, 1, 1, 1, 1, 1, 1, 1, 1, 1, 1, 1, 1, 1, 1, 1, 1, 1, 1, 1, 1, 1, 1, 1, 1, 1, 1, 1, 1, 1, 1, 1, 1, 1, 1, 1, 1, 1, 1, 1, 1, 1, 1, 1, 1, 1, 1, 1, 1, 1, 1, 1, 1, 1, 1, 1, 1, 1, 1, 1, 1, 1, 1, 1, 1, 1, 1, 1, 1, 1, 1, 1, 1, 1, 1, 1, 1, 1, 1, 1, 1, 1, 1, 1, 1, 1, 1, 1, 1, 1, 1, 1, 1, 1, 1, 1, 1, 1, 1, 1, 1, 1, 1, 1, 1, 1, 1, 1, 1, 1, 1, 1, 1, 1, 1, 1, 1, 1, 1, 1, 1, 1, 1, 1, 1, 1, 1, 1, 1, 1, 1, 1, 1, 1, 1, 1, 1, 1, 1, 1, 1, 1, 1, 1, 1, 1, 1, 1, 1, 1, 1, 1, 1, 1, 1, 1, 1, 1, 1, 1, 1, 1, 1, 1, 1, 1, 1, 1, 1, 1, 1, 1, 1, 1, 1, 1, 1, 1, 1, 1, 1, 1, 1, 1, 1, 1, 1, 1, 1, 1, 1, 1, 1, 1, 1, 1, 1, 1, 1, 1, 1, 1, 1, 1, 1, 1, 1, 1, 1, 1, 1, 1, 1, 1, 1, 1, 1, 1, 1, 1, 1, 1, 1, 1, 1, 1, 1, 1, 1, 1, 1, 1, 1, 1, 1, 1, 1, 1, 1, 1, 1, 1, 1, 1, 1, 1, 1, 1, 1, 1, 1, 1, 1, 1, 1, 1, 1, 1, 1, 1, 1, 1, 1, 1, 1, 1, 1, 1, 1, 1, 1, 1, 1, 1, 1, 1, 1, 1, 1, 1]\n"
     ]
    }
   ],
   "source": [
    "print(PlayerID)\n",
    "print(len(Week))\n",
    "print(Week)"
   ]
  },
  {
   "cell_type": "code",
   "execution_count": null,
   "id": "overall-investigation",
   "metadata": {},
   "outputs": [],
   "source": [
    "pd.set_option('display.max_rows', All_2020_df_2.shape[0]+1)\n",
    "# print(result)\n",
    "All_2020_df"
   ]
  },
  {
   "cell_type": "code",
   "execution_count": null,
   "id": "durable-azerbaijan",
   "metadata": {},
   "outputs": [],
   "source": [
    "# Create counter to loop through 17 API calls, one for each week. \n",
    "API_week = 1\n",
    "#year\n",
    "API_year = \"2020REG\"\n",
    "\n",
    "#Create url for 17 API calls\n",
    "loop_url = f\"https://api.sportsdata.io/v3/nfl/projections/json/PlayerGameProjectionStatsByWeek/{API_year}/{API_week}?key=4339cb9aa27441699f1883848f498899\"\n",
    "loop_response = requests.get(loop_url).json()\n",
    "\n",
    "\n",
    "for x in range(0,2):\n",
    "    for i in range(0,len(loop_response)):\n",
    "    #         loop_item = loop_response[i]\n",
    "        All_2020_df.loc[i] = [loop_response[i][\"PlayerID\"], loop_response[i][\"Week\"]]\n",
    "    #     All_2020_df.loc[i] = [loop_response[i][\"PlayerID\"], loop_response[i][\"Name\"], loop_response[i][\"Week\"], loop_response[i][\"Position\"], loop_response[i][\"Activated\"], loop_response[i][\"Played\"], loop_response[i][\"Started\"], loop_response[i][\"FantasyPoints\"], loop_response[i][\"FantasyPointsPPR\"], loop_response[i][\"OpponentRank\"], loop_response[i][\"OpponentPositionRank\"]]\n",
    "\n",
    "    if x == 0:\n",
    "       result = All_2020_df\n",
    "    else:\n",
    "        result = result.append(All_2020_df)\n",
    "    API_week = API_week + 1\n",
    "    loop_url = f\"https://api.sportsdata.io/v3/nfl/projections/json/PlayerGameProjectionStatsByWeek/{API_year}/{API_week}?key=4339cb9aa27441699f1883848f498899\"\n",
    "    loop_response = requests.get(loop_url).json()\n",
    "    \n",
    "#     loop_response.append(i)\n",
    "# print(API_week)\n",
    "print(loop_url)\n",
    "print(x)\n",
    "print(result)     "
   ]
  },
  {
   "cell_type": "code",
   "execution_count": null,
   "id": "political-personal",
   "metadata": {},
   "outputs": [],
   "source": [
    "pd.set_option('display.max_rows', All_2020_df.shape[0]+1)\n",
    "print(result)"
   ]
  },
  {
   "cell_type": "code",
   "execution_count": null,
   "id": "collective-bench",
   "metadata": {},
   "outputs": [],
   "source": [
    "print(API_week)\n",
    "print(json.dumps(loop_response[0], indent=1))"
   ]
  },
  {
   "cell_type": "code",
   "execution_count": null,
   "id": "unexpected-jackson",
   "metadata": {},
   "outputs": [],
   "source": [
    "pd.set_option('display.max_rows', All_2020_df.shape[0]+1)\n",
    "All_2020_df"
   ]
  }
 ],
 "metadata": {
  "kernelspec": {
   "display_name": "Python 3",
   "language": "python",
   "name": "python3"
  },
  "language_info": {
   "codemirror_mode": {
    "name": "ipython",
    "version": 3
   },
   "file_extension": ".py",
   "mimetype": "text/x-python",
   "name": "python",
   "nbconvert_exporter": "python",
   "pygments_lexer": "ipython3",
   "version": "3.8.8"
  }
 },
 "nbformat": 4,
 "nbformat_minor": 5
}
